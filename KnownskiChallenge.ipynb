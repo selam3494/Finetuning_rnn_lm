{
 "cells": [
  {
   "cell_type": "code",
   "execution_count": null,
   "id": "5e77f70f",
   "metadata": {},
   "outputs": [],
   "source": []
  },
  {
   "cell_type": "code",
   "execution_count": null,
   "id": "216db1d5",
   "metadata": {},
   "outputs": [],
   "source": []
  },
  {
   "cell_type": "code",
   "execution_count": 1,
   "id": "4869086a",
   "metadata": {},
   "outputs": [],
   "source": [
    "import pandas as pd\n"
   ]
  },
  {
   "cell_type": "code",
   "execution_count": 3,
   "id": "04c2d2f5",
   "metadata": {},
   "outputs": [
    {
     "data": {
      "text/html": [
       "<div>\n",
       "<style scoped>\n",
       "    .dataframe tbody tr th:only-of-type {\n",
       "        vertical-align: middle;\n",
       "    }\n",
       "\n",
       "    .dataframe tbody tr th {\n",
       "        vertical-align: top;\n",
       "    }\n",
       "\n",
       "    .dataframe thead th {\n",
       "        text-align: right;\n",
       "    }\n",
       "</style>\n",
       "<table border=\"1\" class=\"dataframe\">\n",
       "  <thead>\n",
       "    <tr style=\"text-align: right;\">\n",
       "      <th></th>\n",
       "      <th>instance_id</th>\n",
       "      <th>repo</th>\n",
       "      <th>problem_statement</th>\n",
       "      <th>patch</th>\n",
       "      <th>test_patch</th>\n",
       "      <th>pull_number</th>\n",
       "      <th>base_commit</th>\n",
       "      <th>PASS_TO_PASS</th>\n",
       "      <th>FAIL_TO_PASS</th>\n",
       "      <th>issue_numbers</th>\n",
       "    </tr>\n",
       "  </thead>\n",
       "  <tbody>\n",
       "    <tr>\n",
       "      <th>0</th>\n",
       "      <td>pylint-dev__astroid-2496</td>\n",
       "      <td>pylint-dev/astroid</td>\n",
       "      <td>TypeError: unsupported format string passed to...</td>\n",
       "      <td>diff --git a/ChangeLog b/ChangeLog\\nindex 4560...</td>\n",
       "      <td>diff --git a/tests/test_inference.py b/tests/t...</td>\n",
       "      <td>2496</td>\n",
       "      <td>8d3cdbbe6685fd8cf211816bec56c90f38f1859e</td>\n",
       "      <td>[tests/test_inference.py::InferenceUtilsTest::...</td>\n",
       "      <td>[tests/test_inference.py::test_formatted_fstri...</td>\n",
       "      <td>[2492]</td>\n",
       "    </tr>\n",
       "    <tr>\n",
       "      <th>1</th>\n",
       "      <td>pylint-dev__astroid-2468</td>\n",
       "      <td>pylint-dev/astroid</td>\n",
       "      <td>Pylint checks against incorrect type with prop...</td>\n",
       "      <td>diff --git a/ChangeLog b/ChangeLog\\nindex fdbb...</td>\n",
       "      <td>diff --git a/tests/test_inference.py b/tests/t...</td>\n",
       "      <td>2468</td>\n",
       "      <td>6db3a60553ff538a936d5dda23d67a3924a57f45</td>\n",
       "      <td>[tests/test_inference.py::InferenceUtilsTest::...</td>\n",
       "      <td>[tests/test_inference.py::InferenceTest::test_...</td>\n",
       "      <td>[2467]</td>\n",
       "    </tr>\n",
       "    <tr>\n",
       "      <th>2</th>\n",
       "      <td>astropy__astropy-17048</td>\n",
       "      <td>astropy/astropy</td>\n",
       "      <td>QTable cannot take `dimensionless_unscaled` wh...</td>\n",
       "      <td>diff --git a/astropy/table/table.py b/astropy/...</td>\n",
       "      <td>diff --git a/astropy/table/tests/test_table.py...</td>\n",
       "      <td>17048</td>\n",
       "      <td>d60f6b72cd525262bfd179331d9fe4474177918f</td>\n",
       "      <td>[astropy/table/tests/test_table.py::TestSetTab...</td>\n",
       "      <td>[astropy/table/tests/test_table.py::test_qtabl...</td>\n",
       "      <td>[17047]</td>\n",
       "    </tr>\n",
       "    <tr>\n",
       "      <th>3</th>\n",
       "      <td>astropy__astropy-16898</td>\n",
       "      <td>astropy/astropy</td>\n",
       "      <td>BUG: tables do not deal well with zero-sized s...</td>\n",
       "      <td>diff --git a/astropy/io/registry/core.py b/ast...</td>\n",
       "      <td>diff --git a/astropy/io/fits/tests/test_connec...</td>\n",
       "      <td>16898</td>\n",
       "      <td>ee6d087baf301c1d08db92e6e5b6d909d57e6fac</td>\n",
       "      <td>[astropy/io/fits/tests/test_connect.py::TestSi...</td>\n",
       "      <td>[astropy/io/fits/tests/test_connect.py::test_z...</td>\n",
       "      <td>[16897]</td>\n",
       "    </tr>\n",
       "    <tr>\n",
       "      <th>4</th>\n",
       "      <td>astropy__astropy-16830</td>\n",
       "      <td>astropy/astropy</td>\n",
       "      <td>KeyError: 'version_1_3_or_later' when parsing ...</td>\n",
       "      <td>diff --git a/astropy/io/votable/tree.py b/astr...</td>\n",
       "      <td>diff --git a/astropy/io/votable/tests/test_tre...</td>\n",
       "      <td>16830</td>\n",
       "      <td>e39f486fec48d87aa3677326167954370d7a7bf9</td>\n",
       "      <td>[astropy/io/votable/tests/test_tree.py::test_c...</td>\n",
       "      <td>[astropy/io/votable/tests/test_tree.py::test_v...</td>\n",
       "      <td>[16825, 16826]</td>\n",
       "    </tr>\n",
       "    <tr>\n",
       "      <th>5</th>\n",
       "      <td>astropy__astropy-16812</td>\n",
       "      <td>astropy/astropy</td>\n",
       "      <td>Provide a way to make a copy of a model with d...</td>\n",
       "      <td>diff --git a/astropy/modeling/core.py b/astrop...</td>\n",
       "      <td>diff --git a/astropy/modeling/tests/test_core....</td>\n",
       "      <td>16812</td>\n",
       "      <td>c241103c11954d3c1cfe3c1840b1ece72479c522</td>\n",
       "      <td>[astropy/modeling/tests/test_core.py::test_Mod...</td>\n",
       "      <td>[astropy/modeling/tests/test_core.py::test_res...</td>\n",
       "      <td>[16593]</td>\n",
       "    </tr>\n",
       "  </tbody>\n",
       "</table>\n",
       "</div>"
      ],
      "text/plain": [
       "                instance_id                repo  \\\n",
       "0  pylint-dev__astroid-2496  pylint-dev/astroid   \n",
       "1  pylint-dev__astroid-2468  pylint-dev/astroid   \n",
       "2    astropy__astropy-17048     astropy/astropy   \n",
       "3    astropy__astropy-16898     astropy/astropy   \n",
       "4    astropy__astropy-16830     astropy/astropy   \n",
       "5    astropy__astropy-16812     astropy/astropy   \n",
       "\n",
       "                                   problem_statement  \\\n",
       "0  TypeError: unsupported format string passed to...   \n",
       "1  Pylint checks against incorrect type with prop...   \n",
       "2  QTable cannot take `dimensionless_unscaled` wh...   \n",
       "3  BUG: tables do not deal well with zero-sized s...   \n",
       "4  KeyError: 'version_1_3_or_later' when parsing ...   \n",
       "5  Provide a way to make a copy of a model with d...   \n",
       "\n",
       "                                               patch  \\\n",
       "0  diff --git a/ChangeLog b/ChangeLog\\nindex 4560...   \n",
       "1  diff --git a/ChangeLog b/ChangeLog\\nindex fdbb...   \n",
       "2  diff --git a/astropy/table/table.py b/astropy/...   \n",
       "3  diff --git a/astropy/io/registry/core.py b/ast...   \n",
       "4  diff --git a/astropy/io/votable/tree.py b/astr...   \n",
       "5  diff --git a/astropy/modeling/core.py b/astrop...   \n",
       "\n",
       "                                          test_patch  pull_number  \\\n",
       "0  diff --git a/tests/test_inference.py b/tests/t...         2496   \n",
       "1  diff --git a/tests/test_inference.py b/tests/t...         2468   \n",
       "2  diff --git a/astropy/table/tests/test_table.py...        17048   \n",
       "3  diff --git a/astropy/io/fits/tests/test_connec...        16898   \n",
       "4  diff --git a/astropy/io/votable/tests/test_tre...        16830   \n",
       "5  diff --git a/astropy/modeling/tests/test_core....        16812   \n",
       "\n",
       "                                base_commit  \\\n",
       "0  8d3cdbbe6685fd8cf211816bec56c90f38f1859e   \n",
       "1  6db3a60553ff538a936d5dda23d67a3924a57f45   \n",
       "2  d60f6b72cd525262bfd179331d9fe4474177918f   \n",
       "3  ee6d087baf301c1d08db92e6e5b6d909d57e6fac   \n",
       "4  e39f486fec48d87aa3677326167954370d7a7bf9   \n",
       "5  c241103c11954d3c1cfe3c1840b1ece72479c522   \n",
       "\n",
       "                                        PASS_TO_PASS  \\\n",
       "0  [tests/test_inference.py::InferenceUtilsTest::...   \n",
       "1  [tests/test_inference.py::InferenceUtilsTest::...   \n",
       "2  [astropy/table/tests/test_table.py::TestSetTab...   \n",
       "3  [astropy/io/fits/tests/test_connect.py::TestSi...   \n",
       "4  [astropy/io/votable/tests/test_tree.py::test_c...   \n",
       "5  [astropy/modeling/tests/test_core.py::test_Mod...   \n",
       "\n",
       "                                        FAIL_TO_PASS   issue_numbers  \n",
       "0  [tests/test_inference.py::test_formatted_fstri...          [2492]  \n",
       "1  [tests/test_inference.py::InferenceTest::test_...          [2467]  \n",
       "2  [astropy/table/tests/test_table.py::test_qtabl...         [17047]  \n",
       "3  [astropy/io/fits/tests/test_connect.py::test_z...         [16897]  \n",
       "4  [astropy/io/votable/tests/test_tree.py::test_v...  [16825, 16826]  \n",
       "5  [astropy/modeling/tests/test_core.py::test_res...         [16593]  "
      ]
     },
     "execution_count": 3,
     "metadata": {},
     "output_type": "execute_result"
    }
   ],
   "source": [
    "df = pd.read_parquet(\"/home/selu/Downloads/Interview_projects/knownski_challenge/data/data.parquet\")\n",
    "df"
   ]
  },
  {
   "cell_type": "code",
   "execution_count": 4,
   "id": "14f0a0f8",
   "metadata": {},
   "outputs": [
    {
     "data": {
      "text/plain": [
       "(6, 10)"
      ]
     },
     "execution_count": 4,
     "metadata": {},
     "output_type": "execute_result"
    }
   ],
   "source": [
    "df.shape"
   ]
  },
  {
   "cell_type": "code",
   "execution_count": 5,
   "id": "01687734",
   "metadata": {},
   "outputs": [
    {
     "name": "stdout",
     "output_type": "stream",
     "text": [
      "<class 'pandas.core.frame.DataFrame'>\n",
      "RangeIndex: 6 entries, 0 to 5\n",
      "Data columns (total 10 columns):\n",
      " #   Column             Non-Null Count  Dtype \n",
      "---  ------             --------------  ----- \n",
      " 0   instance_id        6 non-null      object\n",
      " 1   repo               6 non-null      object\n",
      " 2   problem_statement  6 non-null      object\n",
      " 3   patch              6 non-null      object\n",
      " 4   test_patch         6 non-null      object\n",
      " 5   pull_number        6 non-null      int64 \n",
      " 6   base_commit        6 non-null      object\n",
      " 7   PASS_TO_PASS       6 non-null      object\n",
      " 8   FAIL_TO_PASS       6 non-null      object\n",
      " 9   issue_numbers      6 non-null      object\n",
      "dtypes: int64(1), object(9)\n",
      "memory usage: 608.0+ bytes\n"
     ]
    }
   ],
   "source": [
    "df.info()"
   ]
  },
  {
   "cell_type": "code",
   "execution_count": 6,
   "id": "9bd8ceae",
   "metadata": {},
   "outputs": [
    {
     "data": {
      "text/plain": [
       "0    [tests/test_inference.py::InferenceUtilsTest::...\n",
       "1    [tests/test_inference.py::InferenceUtilsTest::...\n",
       "2    [astropy/table/tests/test_table.py::TestSetTab...\n",
       "3    [astropy/io/fits/tests/test_connect.py::TestSi...\n",
       "4    [astropy/io/votable/tests/test_tree.py::test_c...\n",
       "5    [astropy/modeling/tests/test_core.py::test_Mod...\n",
       "Name: PASS_TO_PASS, dtype: object"
      ]
     },
     "execution_count": 6,
     "metadata": {},
     "output_type": "execute_result"
    }
   ],
   "source": [
    "df['PASS_TO_PASS']"
   ]
  },
  {
   "cell_type": "code",
   "execution_count": null,
   "id": "5563463b",
   "metadata": {},
   "outputs": [],
   "source": []
  },
  {
   "cell_type": "code",
   "execution_count": null,
   "id": "86ca4f88",
   "metadata": {},
   "outputs": [],
   "source": []
  },
  {
   "cell_type": "code",
   "execution_count": null,
   "id": "995a40bd",
   "metadata": {},
   "outputs": [],
   "source": []
  }
 ],
 "metadata": {
  "kernelspec": {
   "display_name": "sf",
   "language": "python",
   "name": "python3"
  },
  "language_info": {
   "codemirror_mode": {
    "name": "ipython",
    "version": 3
   },
   "file_extension": ".py",
   "mimetype": "text/x-python",
   "name": "python",
   "nbconvert_exporter": "python",
   "pygments_lexer": "ipython3",
   "version": "undefined.undefined.undefined"
  }
 },
 "nbformat": 4,
 "nbformat_minor": 5
}
